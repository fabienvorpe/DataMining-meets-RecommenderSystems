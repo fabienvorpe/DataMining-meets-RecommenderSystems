{
 "cells": [
  {
   "cell_type": "raw",
   "metadata": {},
   "source": [
    "MCS - BeNeFri\n",
    "Social Media Analytics, Fall 2020\n",
    "Project - Data Mining meets Recommender Systems\n",
    "@authors: Guillaume Chacun, Fabien Vorpe"
   ]
  },
  {
   "cell_type": "markdown",
   "metadata": {
    "ExecuteTime": {
     "end_time": "2020-10-22T21:27:59.318009Z",
     "start_time": "2020-10-22T21:27:59.301542Z"
    }
   },
   "source": [
    "# Pre-processing"
   ]
  },
  {
   "cell_type": "code",
   "execution_count": 842,
   "metadata": {
    "ExecuteTime": {
     "end_time": "2020-12-06T23:59:08.324169Z",
     "start_time": "2020-12-06T23:59:08.317138Z"
    }
   },
   "outputs": [],
   "source": [
    "import random\n",
    "import numpy as np\n",
    "import pandas as pd\n",
    "from tqdm import tqdm\n",
    "from sklearn.metrics.pairwise import pairwise_distances"
   ]
  },
  {
   "cell_type": "code",
   "execution_count": 846,
   "metadata": {
    "ExecuteTime": {
     "end_time": "2020-12-06T23:59:39.529989Z",
     "start_time": "2020-12-06T23:59:39.254908Z"
    },
    "scrolled": true
   },
   "outputs": [
    {
     "data": {
      "text/html": [
       "<div>\n",
       "<style scoped>\n",
       "    .dataframe tbody tr th:only-of-type {\n",
       "        vertical-align: middle;\n",
       "    }\n",
       "\n",
       "    .dataframe tbody tr th {\n",
       "        vertical-align: top;\n",
       "    }\n",
       "\n",
       "    .dataframe thead th {\n",
       "        text-align: right;\n",
       "    }\n",
       "</style>\n",
       "<table border=\"1\" class=\"dataframe\">\n",
       "  <thead>\n",
       "    <tr style=\"text-align: right;\">\n",
       "      <th></th>\n",
       "      <th>9731_read</th>\n",
       "      <th>9731_likes</th>\n",
       "      <th>9731_posts</th>\n",
       "      <th>9731_comments</th>\n",
       "      <th>7174_read</th>\n",
       "      <th>7174_likes</th>\n",
       "      <th>7174_posts</th>\n",
       "      <th>7174_comments</th>\n",
       "      <th>12807_read</th>\n",
       "      <th>12807_likes</th>\n",
       "      <th>...</th>\n",
       "      <th>132077_posts</th>\n",
       "      <th>132077_comments</th>\n",
       "      <th>132078_read</th>\n",
       "      <th>132078_likes</th>\n",
       "      <th>132078_posts</th>\n",
       "      <th>132078_comments</th>\n",
       "      <th>50683_read</th>\n",
       "      <th>50683_likes</th>\n",
       "      <th>50683_posts</th>\n",
       "      <th>50683_comments</th>\n",
       "    </tr>\n",
       "    <tr>\n",
       "      <th>user_id</th>\n",
       "      <th></th>\n",
       "      <th></th>\n",
       "      <th></th>\n",
       "      <th></th>\n",
       "      <th></th>\n",
       "      <th></th>\n",
       "      <th></th>\n",
       "      <th></th>\n",
       "      <th></th>\n",
       "      <th></th>\n",
       "      <th></th>\n",
       "      <th></th>\n",
       "      <th></th>\n",
       "      <th></th>\n",
       "      <th></th>\n",
       "      <th></th>\n",
       "      <th></th>\n",
       "      <th></th>\n",
       "      <th></th>\n",
       "      <th></th>\n",
       "      <th></th>\n",
       "    </tr>\n",
       "  </thead>\n",
       "  <tbody>\n",
       "    <tr>\n",
       "      <th>80c79718-b5ae-4e79-9b1a-b42461b934d0</th>\n",
       "      <td>0</td>\n",
       "      <td>0</td>\n",
       "      <td>0</td>\n",
       "      <td>0</td>\n",
       "      <td>0</td>\n",
       "      <td>0</td>\n",
       "      <td>0</td>\n",
       "      <td>0</td>\n",
       "      <td>0</td>\n",
       "      <td>0</td>\n",
       "      <td>...</td>\n",
       "      <td>0</td>\n",
       "      <td>0</td>\n",
       "      <td>0</td>\n",
       "      <td>0</td>\n",
       "      <td>0</td>\n",
       "      <td>0</td>\n",
       "      <td>0</td>\n",
       "      <td>0</td>\n",
       "      <td>0</td>\n",
       "      <td>0</td>\n",
       "    </tr>\n",
       "    <tr>\n",
       "      <th>fee5578c-cbcd-402d-a698-db9a58af6fb2</th>\n",
       "      <td>0</td>\n",
       "      <td>0</td>\n",
       "      <td>0</td>\n",
       "      <td>0</td>\n",
       "      <td>0</td>\n",
       "      <td>0</td>\n",
       "      <td>0</td>\n",
       "      <td>0</td>\n",
       "      <td>0</td>\n",
       "      <td>0</td>\n",
       "      <td>...</td>\n",
       "      <td>0</td>\n",
       "      <td>0</td>\n",
       "      <td>0</td>\n",
       "      <td>0</td>\n",
       "      <td>0</td>\n",
       "      <td>0</td>\n",
       "      <td>0</td>\n",
       "      <td>0</td>\n",
       "      <td>0</td>\n",
       "      <td>0</td>\n",
       "    </tr>\n",
       "    <tr>\n",
       "      <th>284881a1-833d-49d9-9b7f-42094fdbbca1</th>\n",
       "      <td>0</td>\n",
       "      <td>0</td>\n",
       "      <td>0</td>\n",
       "      <td>0</td>\n",
       "      <td>0</td>\n",
       "      <td>0</td>\n",
       "      <td>0</td>\n",
       "      <td>0</td>\n",
       "      <td>0</td>\n",
       "      <td>0</td>\n",
       "      <td>...</td>\n",
       "      <td>0</td>\n",
       "      <td>0</td>\n",
       "      <td>0</td>\n",
       "      <td>0</td>\n",
       "      <td>0</td>\n",
       "      <td>0</td>\n",
       "      <td>0</td>\n",
       "      <td>0</td>\n",
       "      <td>0</td>\n",
       "      <td>0</td>\n",
       "    </tr>\n",
       "    <tr>\n",
       "      <th>be9ce283-a20f-4110-9523-e1c70d657add</th>\n",
       "      <td>0</td>\n",
       "      <td>0</td>\n",
       "      <td>0</td>\n",
       "      <td>0</td>\n",
       "      <td>0</td>\n",
       "      <td>0</td>\n",
       "      <td>0</td>\n",
       "      <td>0</td>\n",
       "      <td>0</td>\n",
       "      <td>0</td>\n",
       "      <td>...</td>\n",
       "      <td>0</td>\n",
       "      <td>0</td>\n",
       "      <td>0</td>\n",
       "      <td>0</td>\n",
       "      <td>0</td>\n",
       "      <td>0</td>\n",
       "      <td>0</td>\n",
       "      <td>0</td>\n",
       "      <td>0</td>\n",
       "      <td>0</td>\n",
       "    </tr>\n",
       "    <tr>\n",
       "      <th>0fe64dcb-547e-4f4f-a158-a66b5edd422f</th>\n",
       "      <td>0</td>\n",
       "      <td>0</td>\n",
       "      <td>0</td>\n",
       "      <td>0</td>\n",
       "      <td>0</td>\n",
       "      <td>0</td>\n",
       "      <td>0</td>\n",
       "      <td>0</td>\n",
       "      <td>0</td>\n",
       "      <td>0</td>\n",
       "      <td>...</td>\n",
       "      <td>0</td>\n",
       "      <td>0</td>\n",
       "      <td>0</td>\n",
       "      <td>0</td>\n",
       "      <td>0</td>\n",
       "      <td>0</td>\n",
       "      <td>0</td>\n",
       "      <td>0</td>\n",
       "      <td>0</td>\n",
       "      <td>0</td>\n",
       "    </tr>\n",
       "  </tbody>\n",
       "</table>\n",
       "<p>5 rows × 516 columns</p>\n",
       "</div>"
      ],
      "text/plain": [
       "                                      9731_read  9731_likes  9731_posts  \\\n",
       "user_id                                                                   \n",
       "80c79718-b5ae-4e79-9b1a-b42461b934d0          0           0           0   \n",
       "fee5578c-cbcd-402d-a698-db9a58af6fb2          0           0           0   \n",
       "284881a1-833d-49d9-9b7f-42094fdbbca1          0           0           0   \n",
       "be9ce283-a20f-4110-9523-e1c70d657add          0           0           0   \n",
       "0fe64dcb-547e-4f4f-a158-a66b5edd422f          0           0           0   \n",
       "\n",
       "                                      9731_comments  7174_read  7174_likes  \\\n",
       "user_id                                                                      \n",
       "80c79718-b5ae-4e79-9b1a-b42461b934d0              0          0           0   \n",
       "fee5578c-cbcd-402d-a698-db9a58af6fb2              0          0           0   \n",
       "284881a1-833d-49d9-9b7f-42094fdbbca1              0          0           0   \n",
       "be9ce283-a20f-4110-9523-e1c70d657add              0          0           0   \n",
       "0fe64dcb-547e-4f4f-a158-a66b5edd422f              0          0           0   \n",
       "\n",
       "                                      7174_posts  7174_comments  12807_read  \\\n",
       "user_id                                                                       \n",
       "80c79718-b5ae-4e79-9b1a-b42461b934d0           0              0           0   \n",
       "fee5578c-cbcd-402d-a698-db9a58af6fb2           0              0           0   \n",
       "284881a1-833d-49d9-9b7f-42094fdbbca1           0              0           0   \n",
       "be9ce283-a20f-4110-9523-e1c70d657add           0              0           0   \n",
       "0fe64dcb-547e-4f4f-a158-a66b5edd422f           0              0           0   \n",
       "\n",
       "                                      12807_likes  ...  132077_posts  \\\n",
       "user_id                                            ...                 \n",
       "80c79718-b5ae-4e79-9b1a-b42461b934d0            0  ...             0   \n",
       "fee5578c-cbcd-402d-a698-db9a58af6fb2            0  ...             0   \n",
       "284881a1-833d-49d9-9b7f-42094fdbbca1            0  ...             0   \n",
       "be9ce283-a20f-4110-9523-e1c70d657add            0  ...             0   \n",
       "0fe64dcb-547e-4f4f-a158-a66b5edd422f            0  ...             0   \n",
       "\n",
       "                                      132077_comments  132078_read  \\\n",
       "user_id                                                              \n",
       "80c79718-b5ae-4e79-9b1a-b42461b934d0                0            0   \n",
       "fee5578c-cbcd-402d-a698-db9a58af6fb2                0            0   \n",
       "284881a1-833d-49d9-9b7f-42094fdbbca1                0            0   \n",
       "be9ce283-a20f-4110-9523-e1c70d657add                0            0   \n",
       "0fe64dcb-547e-4f4f-a158-a66b5edd422f                0            0   \n",
       "\n",
       "                                      132078_likes  132078_posts  \\\n",
       "user_id                                                            \n",
       "80c79718-b5ae-4e79-9b1a-b42461b934d0             0             0   \n",
       "fee5578c-cbcd-402d-a698-db9a58af6fb2             0             0   \n",
       "284881a1-833d-49d9-9b7f-42094fdbbca1             0             0   \n",
       "be9ce283-a20f-4110-9523-e1c70d657add             0             0   \n",
       "0fe64dcb-547e-4f4f-a158-a66b5edd422f             0             0   \n",
       "\n",
       "                                      132078_comments  50683_read  \\\n",
       "user_id                                                             \n",
       "80c79718-b5ae-4e79-9b1a-b42461b934d0                0           0   \n",
       "fee5578c-cbcd-402d-a698-db9a58af6fb2                0           0   \n",
       "284881a1-833d-49d9-9b7f-42094fdbbca1                0           0   \n",
       "be9ce283-a20f-4110-9523-e1c70d657add                0           0   \n",
       "0fe64dcb-547e-4f4f-a158-a66b5edd422f                0           0   \n",
       "\n",
       "                                      50683_likes  50683_posts  50683_comments  \n",
       "user_id                                                                         \n",
       "80c79718-b5ae-4e79-9b1a-b42461b934d0            0            0               0  \n",
       "fee5578c-cbcd-402d-a698-db9a58af6fb2            0            0               0  \n",
       "284881a1-833d-49d9-9b7f-42094fdbbca1            0            0               0  \n",
       "be9ce283-a20f-4110-9523-e1c70d657add            0            0               0  \n",
       "0fe64dcb-547e-4f4f-a158-a66b5edd422f            0            0               0  \n",
       "\n",
       "[5 rows x 516 columns]"
      ]
     },
     "execution_count": 846,
     "metadata": {},
     "output_type": "execute_result"
    }
   ],
   "source": [
    "user_profiles_detailed = pd.read_csv(\"data/user_profiles_hospitality_dataset_2020.csv\", index_col=\"user_id\")\n",
    "user_profiles_detailed.head()"
   ]
  },
  {
   "cell_type": "code",
   "execution_count": 847,
   "metadata": {
    "ExecuteTime": {
     "end_time": "2020-12-06T23:59:41.433894Z",
     "start_time": "2020-12-06T23:59:41.417893Z"
    },
    "code_folding": []
   },
   "outputs": [],
   "source": [
    "def compute_streams_score(df):\n",
    "    \"\"\"\n",
    "    Compute for all user/stream a single value score for the interaction\n",
    "    that a user has with a stream by combining the \n",
    "    - number of reads\n",
    "    - number of likes\n",
    "    - number of comments\n",
    "    - number of posts\n",
    "    \"\"\"\n",
    "    df_stream_score = pd.DataFrame()\n",
    "    df_columns = df.columns\n",
    "    for i in range(0, len(df_columns), 4):\n",
    "        stream = df_columns[i][:-5]\n",
    "        df_stream_score[stream] = df[df_columns[i]] * 1 \\\n",
    "                                + df[df_columns[i+1]] * 2 \\\n",
    "                                + df[df_columns[i+2]] * 3 \\\n",
    "                                + df[df_columns[i+3]] * 5\n",
    "    return df_stream_score"
   ]
  },
  {
   "cell_type": "code",
   "execution_count": 848,
   "metadata": {
    "ExecuteTime": {
     "end_time": "2020-12-06T23:59:42.023962Z",
     "start_time": "2020-12-06T23:59:41.766934Z"
    },
    "scrolled": true
   },
   "outputs": [
    {
     "data": {
      "text/html": [
       "<div>\n",
       "<style scoped>\n",
       "    .dataframe tbody tr th:only-of-type {\n",
       "        vertical-align: middle;\n",
       "    }\n",
       "\n",
       "    .dataframe tbody tr th {\n",
       "        vertical-align: top;\n",
       "    }\n",
       "\n",
       "    .dataframe thead th {\n",
       "        text-align: right;\n",
       "    }\n",
       "</style>\n",
       "<table border=\"1\" class=\"dataframe\">\n",
       "  <thead>\n",
       "    <tr style=\"text-align: right;\">\n",
       "      <th></th>\n",
       "      <th>9731</th>\n",
       "      <th>7174</th>\n",
       "      <th>12807</th>\n",
       "      <th>138248</th>\n",
       "      <th>18966</th>\n",
       "      <th>11297</th>\n",
       "      <th>11298</th>\n",
       "      <th>29731</th>\n",
       "      <th>29733</th>\n",
       "      <th>11302</th>\n",
       "      <th>...</th>\n",
       "      <th>132070</th>\n",
       "      <th>132071</th>\n",
       "      <th>132072</th>\n",
       "      <th>132073</th>\n",
       "      <th>132074</th>\n",
       "      <th>132075</th>\n",
       "      <th>132076</th>\n",
       "      <th>132077</th>\n",
       "      <th>132078</th>\n",
       "      <th>50683</th>\n",
       "    </tr>\n",
       "    <tr>\n",
       "      <th>user_id</th>\n",
       "      <th></th>\n",
       "      <th></th>\n",
       "      <th></th>\n",
       "      <th></th>\n",
       "      <th></th>\n",
       "      <th></th>\n",
       "      <th></th>\n",
       "      <th></th>\n",
       "      <th></th>\n",
       "      <th></th>\n",
       "      <th></th>\n",
       "      <th></th>\n",
       "      <th></th>\n",
       "      <th></th>\n",
       "      <th></th>\n",
       "      <th></th>\n",
       "      <th></th>\n",
       "      <th></th>\n",
       "      <th></th>\n",
       "      <th></th>\n",
       "      <th></th>\n",
       "    </tr>\n",
       "  </thead>\n",
       "  <tbody>\n",
       "    <tr>\n",
       "      <th>80c79718-b5ae-4e79-9b1a-b42461b934d0</th>\n",
       "      <td>0</td>\n",
       "      <td>0</td>\n",
       "      <td>0</td>\n",
       "      <td>0</td>\n",
       "      <td>0</td>\n",
       "      <td>0</td>\n",
       "      <td>0</td>\n",
       "      <td>0</td>\n",
       "      <td>6</td>\n",
       "      <td>0</td>\n",
       "      <td>...</td>\n",
       "      <td>0</td>\n",
       "      <td>0</td>\n",
       "      <td>0</td>\n",
       "      <td>0</td>\n",
       "      <td>0</td>\n",
       "      <td>0</td>\n",
       "      <td>0</td>\n",
       "      <td>0</td>\n",
       "      <td>0</td>\n",
       "      <td>0</td>\n",
       "    </tr>\n",
       "    <tr>\n",
       "      <th>fee5578c-cbcd-402d-a698-db9a58af6fb2</th>\n",
       "      <td>0</td>\n",
       "      <td>0</td>\n",
       "      <td>0</td>\n",
       "      <td>0</td>\n",
       "      <td>0</td>\n",
       "      <td>0</td>\n",
       "      <td>0</td>\n",
       "      <td>0</td>\n",
       "      <td>0</td>\n",
       "      <td>0</td>\n",
       "      <td>...</td>\n",
       "      <td>0</td>\n",
       "      <td>0</td>\n",
       "      <td>0</td>\n",
       "      <td>0</td>\n",
       "      <td>0</td>\n",
       "      <td>0</td>\n",
       "      <td>0</td>\n",
       "      <td>0</td>\n",
       "      <td>0</td>\n",
       "      <td>0</td>\n",
       "    </tr>\n",
       "    <tr>\n",
       "      <th>284881a1-833d-49d9-9b7f-42094fdbbca1</th>\n",
       "      <td>0</td>\n",
       "      <td>0</td>\n",
       "      <td>0</td>\n",
       "      <td>0</td>\n",
       "      <td>0</td>\n",
       "      <td>0</td>\n",
       "      <td>0</td>\n",
       "      <td>0</td>\n",
       "      <td>0</td>\n",
       "      <td>0</td>\n",
       "      <td>...</td>\n",
       "      <td>0</td>\n",
       "      <td>0</td>\n",
       "      <td>0</td>\n",
       "      <td>0</td>\n",
       "      <td>0</td>\n",
       "      <td>0</td>\n",
       "      <td>0</td>\n",
       "      <td>0</td>\n",
       "      <td>0</td>\n",
       "      <td>0</td>\n",
       "    </tr>\n",
       "    <tr>\n",
       "      <th>be9ce283-a20f-4110-9523-e1c70d657add</th>\n",
       "      <td>0</td>\n",
       "      <td>0</td>\n",
       "      <td>0</td>\n",
       "      <td>0</td>\n",
       "      <td>0</td>\n",
       "      <td>0</td>\n",
       "      <td>0</td>\n",
       "      <td>9</td>\n",
       "      <td>0</td>\n",
       "      <td>0</td>\n",
       "      <td>...</td>\n",
       "      <td>0</td>\n",
       "      <td>0</td>\n",
       "      <td>0</td>\n",
       "      <td>0</td>\n",
       "      <td>0</td>\n",
       "      <td>0</td>\n",
       "      <td>0</td>\n",
       "      <td>0</td>\n",
       "      <td>0</td>\n",
       "      <td>0</td>\n",
       "    </tr>\n",
       "    <tr>\n",
       "      <th>0fe64dcb-547e-4f4f-a158-a66b5edd422f</th>\n",
       "      <td>0</td>\n",
       "      <td>0</td>\n",
       "      <td>0</td>\n",
       "      <td>0</td>\n",
       "      <td>0</td>\n",
       "      <td>0</td>\n",
       "      <td>0</td>\n",
       "      <td>0</td>\n",
       "      <td>0</td>\n",
       "      <td>0</td>\n",
       "      <td>...</td>\n",
       "      <td>0</td>\n",
       "      <td>0</td>\n",
       "      <td>0</td>\n",
       "      <td>0</td>\n",
       "      <td>0</td>\n",
       "      <td>0</td>\n",
       "      <td>0</td>\n",
       "      <td>0</td>\n",
       "      <td>0</td>\n",
       "      <td>0</td>\n",
       "    </tr>\n",
       "  </tbody>\n",
       "</table>\n",
       "<p>5 rows × 129 columns</p>\n",
       "</div>"
      ],
      "text/plain": [
       "                                      9731  7174  12807  138248  18966  11297  \\\n",
       "user_id                                                                         \n",
       "80c79718-b5ae-4e79-9b1a-b42461b934d0     0     0      0       0      0      0   \n",
       "fee5578c-cbcd-402d-a698-db9a58af6fb2     0     0      0       0      0      0   \n",
       "284881a1-833d-49d9-9b7f-42094fdbbca1     0     0      0       0      0      0   \n",
       "be9ce283-a20f-4110-9523-e1c70d657add     0     0      0       0      0      0   \n",
       "0fe64dcb-547e-4f4f-a158-a66b5edd422f     0     0      0       0      0      0   \n",
       "\n",
       "                                      11298  29731  29733  11302  ...  132070  \\\n",
       "user_id                                                           ...           \n",
       "80c79718-b5ae-4e79-9b1a-b42461b934d0      0      0      6      0  ...       0   \n",
       "fee5578c-cbcd-402d-a698-db9a58af6fb2      0      0      0      0  ...       0   \n",
       "284881a1-833d-49d9-9b7f-42094fdbbca1      0      0      0      0  ...       0   \n",
       "be9ce283-a20f-4110-9523-e1c70d657add      0      9      0      0  ...       0   \n",
       "0fe64dcb-547e-4f4f-a158-a66b5edd422f      0      0      0      0  ...       0   \n",
       "\n",
       "                                      132071  132072  132073  132074  132075  \\\n",
       "user_id                                                                        \n",
       "80c79718-b5ae-4e79-9b1a-b42461b934d0       0       0       0       0       0   \n",
       "fee5578c-cbcd-402d-a698-db9a58af6fb2       0       0       0       0       0   \n",
       "284881a1-833d-49d9-9b7f-42094fdbbca1       0       0       0       0       0   \n",
       "be9ce283-a20f-4110-9523-e1c70d657add       0       0       0       0       0   \n",
       "0fe64dcb-547e-4f4f-a158-a66b5edd422f       0       0       0       0       0   \n",
       "\n",
       "                                      132076  132077  132078  50683  \n",
       "user_id                                                              \n",
       "80c79718-b5ae-4e79-9b1a-b42461b934d0       0       0       0      0  \n",
       "fee5578c-cbcd-402d-a698-db9a58af6fb2       0       0       0      0  \n",
       "284881a1-833d-49d9-9b7f-42094fdbbca1       0       0       0      0  \n",
       "be9ce283-a20f-4110-9523-e1c70d657add       0       0       0      0  \n",
       "0fe64dcb-547e-4f4f-a158-a66b5edd422f       0       0       0      0  \n",
       "\n",
       "[5 rows x 129 columns]"
      ]
     },
     "execution_count": 848,
     "metadata": {},
     "output_type": "execute_result"
    }
   ],
   "source": [
    "user_profiles = compute_streams_score(user_profiles_detailed)\n",
    "user_profiles.head()"
   ]
  },
  {
   "cell_type": "code",
   "execution_count": 849,
   "metadata": {
    "ExecuteTime": {
     "end_time": "2020-12-06T23:59:44.484275Z",
     "start_time": "2020-12-06T23:59:44.472114Z"
    }
   },
   "outputs": [
    {
     "data": {
      "text/plain": [
       "(7767, 129)"
      ]
     },
     "execution_count": 849,
     "metadata": {},
     "output_type": "execute_result"
    }
   ],
   "source": [
    "user_profiles.shape"
   ]
  },
  {
   "cell_type": "markdown",
   "metadata": {},
   "source": [
    "# Evaluation"
   ]
  },
  {
   "cell_type": "code",
   "execution_count": 920,
   "metadata": {
    "ExecuteTime": {
     "end_time": "2020-12-07T00:30:30.623406Z",
     "start_time": "2020-12-07T00:30:30.553469Z"
    }
   },
   "outputs": [],
   "source": [
    "class ModelEvaluator:\n",
    "    \"\"\"\n",
    "    Class that perform evaluation of models for a given dataframe\n",
    "    \"\"\"\n",
    "    \n",
    "    def __init__(self, df):\n",
    "        self.df = df\n",
    "        \n",
    "    \n",
    "    def compute_ap(self, model_recs, rank, eval_i_stream_pool):\n",
    "        \"\"\"\n",
    "        Compute the average precision\n",
    "        \"\"\"\n",
    "        ap_at_rank = 0\n",
    "        \n",
    "        rec_r_ir_history = []\n",
    "        for rec in model_recs[:rank]:\n",
    "            if rec in eval_i_stream_pool:\n",
    "                rec_r_ir_history.append(1)\n",
    "            else :\n",
    "                rec_r_ir_history.append(0)\n",
    "            \n",
    "            p = sum(rec_r_ir_history) / len(rec_r_ir_history)\n",
    "            \n",
    "            ap_at_rank += p\n",
    "        \n",
    "        ap_at_rank /= rank\n",
    "        \n",
    "        return ap_at_rank\n",
    "    \n",
    "    \n",
    "    def evaluate_model_for_user(self, model, user, nb_i_stream_eval_per_user, nb_u_stream_eval_per_user):\n",
    "        \"\"\"\n",
    "        Ask a given model to produce recommendations for a given user\n",
    "        and evaluate it\n",
    "        \"\"\"\n",
    "        user_interacted_streams = [stream for stream in self.df.columns if self.df.loc[user, stream] > 0]\n",
    "        user_uninteracted_streams = [stream for stream in self.df.columns if stream not in user_interacted_streams]\n",
    "        \n",
    "        eval_i_stream_pool = []\n",
    "        eval_u_stream_pool = []\n",
    "        try :\n",
    "            eval_i_stream_pool = random.sample(user_interacted_streams, nb_i_stream_eval_per_user)\n",
    "        except :\n",
    "            eval_i_stream_pool = user_interacted_streams\n",
    "            nb_i_stream_eval_per_user = len(user_interacted_streams)\n",
    "        \n",
    "        try :\n",
    "            eval_u_stream_pool = random.sample(user_uninteracted_streams, nb_u_stream_eval_per_user)\n",
    "        except :\n",
    "            eval_u_stream_pool = user_uninteracted_streams\n",
    "            nb_u_stream_eval_per_user = len(user_uninteracted_streams)\n",
    "        \n",
    "        eval_stream_pool = eval_i_stream_pool + eval_u_stream_pool\n",
    "        \n",
    "        model_recs = model.recommend_for_user(user, stream_pool=eval_stream_pool, top_n=nb_i_stream_eval_per_user + \\\n",
    "                                             nb_u_stream_eval_per_user)\n",
    "\n",
    "        rec_at_5 = sum([1 for stream in eval_i_stream_pool if stream in model_recs[:5]]) / nb_i_stream_eval_per_user\n",
    "        rec_at_10 = sum([1 for stream in eval_i_stream_pool if stream in model_recs[:10]]) / nb_i_stream_eval_per_user\n",
    "        \n",
    "        ap_at_5 = self.compute_ap(model_recs, 5, eval_i_stream_pool)\n",
    "        ap_at_10 = self.compute_ap(model_recs, 10, eval_i_stream_pool)\n",
    "        \n",
    "        return {\"R@5\": rec_at_5, \"R@10\": rec_at_10, \"AP@5\": ap_at_5, \"AP@10\": ap_at_10}\n",
    "\n",
    "\n",
    "    def evaluate_model(self, model, nb_user_eval, nb_i_stream_eval_per_user, nb_u_stream_eval_per_user):\n",
    "        \"\"\"\n",
    "        Evaluate a model by evaluating it on a number of random user\n",
    "        and averaging the metrics\n",
    "        \"\"\"\n",
    "        avg_rec_at_5 = 0\n",
    "        avg_rec_at_10 = 0\n",
    "        map_at_5 = 0\n",
    "        map_at_10 = 0\n",
    "        \n",
    "        users_with_enough_interacted_streams = [user for user in self.df.index if \\\n",
    "                                                sum([1 for stream in self.df.columns if self.df.loc[user, stream] > 0]) \\\n",
    "                                                > nb_i_stream_eval_per_user]\n",
    "        \n",
    "        for _ in tqdm(range(nb_user_eval)):\n",
    "            user = users_with_enough_interacted_streams[np.random.randint(0, len(users_with_enough_interacted_streams))]\n",
    "            model_user_eval = self.evaluate_model_for_user(model, user, nb_i_stream_eval_per_user, nb_u_stream_eval_per_user)\n",
    "            avg_rec_at_5 += model_user_eval[\"R@5\"]\n",
    "            avg_rec_at_10 += model_user_eval[\"R@10\"]\n",
    "            map_at_5 += model_user_eval[\"AP@5\"]\n",
    "            map_at_10 += model_user_eval[\"AP@10\"]\n",
    "\n",
    "        avg_rec_at_5 /= nb_user_eval\n",
    "        avg_rec_at_10 /= nb_user_eval\n",
    "        map_at_5 /= nb_user_eval\n",
    "        map_at_10 /= nb_user_eval\n",
    "\n",
    "        return {\"R@5\": avg_rec_at_5, \"R@10\": avg_rec_at_10, \"MAP@5\": map_at_5, \"MAP@10\": map_at_10}"
   ]
  },
  {
   "cell_type": "code",
   "execution_count": 921,
   "metadata": {
    "ExecuteTime": {
     "end_time": "2020-12-07T00:30:30.780158Z",
     "start_time": "2020-12-07T00:30:30.768126Z"
    }
   },
   "outputs": [],
   "source": [
    "model_evaluator = ModelEvaluator(user_profiles)"
   ]
  },
  {
   "cell_type": "markdown",
   "metadata": {},
   "source": [
    "# Popularity recommendation system\n",
    "Rank the stream regarding how much the users interacts with it and recommend the streams with the most interactions"
   ]
  },
  {
   "cell_type": "code",
   "execution_count": 1058,
   "metadata": {
    "ExecuteTime": {
     "end_time": "2020-12-07T02:53:26.017925Z",
     "start_time": "2020-12-07T02:53:25.997927Z"
    }
   },
   "outputs": [],
   "source": [
    "class PopularityRecommender:\n",
    "    \"\"\"\n",
    "    Class that recommend streams to user based on stream popularity\n",
    "    \"\"\"\n",
    "    \n",
    "    def __init__(self, df):\n",
    "        self.df = df\n",
    "    \n",
    "    \n",
    "    def rank_streams_by_popularity(self):\n",
    "        \"\"\"\n",
    "        Rank stream by popularity\n",
    "        \"\"\"\n",
    "        stream_popularity = {}\n",
    "        for stream in self.df.columns:\n",
    "            stream_popularity[stream] = self.df[stream].sum()\n",
    "\n",
    "        ranked_streams = sorted(stream_popularity, key=stream_popularity.get, reverse=True)\n",
    "\n",
    "        return ranked_streams\n",
    "    \n",
    "\n",
    "    def recommend_for_user(self, user, stream_pool=[], top_n=10):\n",
    "        \"\"\"\n",
    "        Recommend top n popular stream to a user\n",
    "        \"\"\"\n",
    "        if len(stream_pool) == 0:\n",
    "            stream_pool = self.df.columns\n",
    "        \n",
    "        ranked_streams = self.rank_streams_by_popularity()\n",
    "            \n",
    "        possible_recommendations = [stream for stream in ranked_streams if stream in stream_pool]\n",
    "        \n",
    "        return possible_recommendations[:top_n]"
   ]
  },
  {
   "cell_type": "code",
   "execution_count": 1059,
   "metadata": {
    "ExecuteTime": {
     "end_time": "2020-12-07T02:53:26.854530Z",
     "start_time": "2020-12-07T02:53:26.830493Z"
    }
   },
   "outputs": [
    {
     "data": {
      "text/plain": [
       "['2516',\n",
       " '33581',\n",
       " '14746',\n",
       " '4908',\n",
       " '10116',\n",
       " '9273',\n",
       " '10320',\n",
       " '68664',\n",
       " '11302',\n",
       " '24639']"
      ]
     },
     "execution_count": 1059,
     "metadata": {},
     "output_type": "execute_result"
    }
   ],
   "source": [
    "popularity_model = PopularityRecommender(user_profiles)\n",
    "popularity_model.recommend_for_user(\"80c79718-b5ae-4e79-9b1a-b42461b934d0\", top_n=10)"
   ]
  },
  {
   "cell_type": "code",
   "execution_count": 1060,
   "metadata": {
    "ExecuteTime": {
     "end_time": "2020-12-07T02:53:36.264476Z",
     "start_time": "2020-12-07T02:53:28.113114Z"
    },
    "scrolled": true
   },
   "outputs": [
    {
     "name": "stderr",
     "output_type": "stream",
     "text": [
      "100%|███████████████████████████████████████████████████████████████████████████████| 100/100 [00:00<00:00, 119.81it/s]\n"
     ]
    },
    {
     "data": {
      "text/plain": [
       "{'R@5': 0.33999999999999986,\n",
       " 'R@10': 0.5260000000000001,\n",
       " 'MAP@5': 0.47249999999999964,\n",
       " 'MAP@10': 0.37782976190476186}"
      ]
     },
     "execution_count": 1060,
     "metadata": {},
     "output_type": "execute_result"
    }
   ],
   "source": [
    "model_evaluator.evaluate_model(popularity_model, 100, 5, 45)"
   ]
  },
  {
   "cell_type": "markdown",
   "metadata": {},
   "source": [
    "# Collaborative filtering recommendation system"
   ]
  },
  {
   "cell_type": "markdown",
   "metadata": {},
   "source": [
    "## user-user approach\n",
    "Look a the most similar user and recommend the streams he interacts with"
   ]
  },
  {
   "cell_type": "markdown",
   "metadata": {},
   "source": [
    "take the most interacted ones first in the similar userq"
   ]
  },
  {
   "cell_type": "code",
   "execution_count": 1061,
   "metadata": {
    "ExecuteTime": {
     "end_time": "2020-12-07T02:53:39.151892Z",
     "start_time": "2020-12-07T02:53:39.138929Z"
    }
   },
   "outputs": [],
   "source": [
    "class CFUser:\n",
    "    \"\"\"\n",
    "    Class that recommend streams to user based on\n",
    "    user similarity\n",
    "    \"\"\"\n",
    "    \n",
    "    def __init__(self, df):\n",
    "        self.df = df\n",
    "        self.users_similarities = pairwise_distances(df.to_numpy(), metric='cosine')\n",
    "\n",
    "    \n",
    "    def recommend_for_user(self, user, stream_pool=[], top_n=10):\n",
    "        \"\"\"\n",
    "        Recommend top n popular stream to a user\n",
    "        based on user similarity\n",
    "        \"\"\"\n",
    "        \n",
    "        if len(stream_pool) == 0:\n",
    "            stream_pool = self.df.columns\n",
    "            \n",
    "        user_index = self.df.index.to_list().index(user)\n",
    "        user_similarity = self.users_similarities[user_index].tolist()\n",
    "        user_similarity[user_index] = 1.0\n",
    "        \n",
    "        recommended_streams = []\n",
    "        \n",
    "        while len(recommended_streams) < top_n:\n",
    "            most_similar_user = user_similarity.index(min(user_similarity))\n",
    "\n",
    "            if user_similarity[most_similar_user] >= 1.0: # TODO add sim treshold\n",
    "                break\n",
    "\n",
    "            for stream in self.df.columns:\n",
    "                if self.df[stream][most_similar_user] > 0 and stream not in recommended_streams and stream in stream_pool:\n",
    "                    recommended_streams.append(stream)\n",
    "\n",
    "            user_similarity[most_similar_user] = 1.\n",
    "            \n",
    "        return recommended_streams"
   ]
  },
  {
   "cell_type": "code",
   "execution_count": 1062,
   "metadata": {
    "ExecuteTime": {
     "end_time": "2020-12-07T02:53:42.142420Z",
     "start_time": "2020-12-07T02:53:40.535141Z"
    }
   },
   "outputs": [
    {
     "data": {
      "text/plain": [
       "['2513',\n",
       " '2516',\n",
       " '9273',\n",
       " '12807',\n",
       " '14888',\n",
       " '35676',\n",
       " '9731',\n",
       " '16032',\n",
       " '14666',\n",
       " '17762']"
      ]
     },
     "execution_count": 1062,
     "metadata": {},
     "output_type": "execute_result"
    }
   ],
   "source": [
    "cf_user_model = CFUser(user_profiles)\n",
    "cf_user_model.recommend_for_user(\"80c79718-b5ae-4e79-9b1a-b42461b934d0\", top_n=10)"
   ]
  },
  {
   "cell_type": "code",
   "execution_count": 1081,
   "metadata": {
    "ExecuteTime": {
     "end_time": "2020-12-07T03:18:54.159954Z",
     "start_time": "2020-12-07T03:10:52.419653Z"
    }
   },
   "outputs": [
    {
     "name": "stderr",
     "output_type": "stream",
     "text": [
      "100%|████████████████████████████████████████████████████████████████████████████████| 100/100 [07:54<00:00,  4.74s/it]\n"
     ]
    },
    {
     "data": {
      "text/plain": [
       "{'R@5': 0.6359999999999999,\n",
       " 'R@10': 0.8099999999999993,\n",
       " 'MAP@5': 0.7648666666666659,\n",
       " 'MAP@10': 0.6253698412698415}"
      ]
     },
     "execution_count": 1081,
     "metadata": {},
     "output_type": "execute_result"
    }
   ],
   "source": [
    "model_evaluator.evaluate_model(cf_user_model, 100, 5, 45)"
   ]
  },
  {
   "cell_type": "markdown",
   "metadata": {},
   "source": [
    "## item-item approach\n",
    "Look a the most interacted stream, and recommend the streams that are similar to this one "
   ]
  },
  {
   "cell_type": "markdown",
   "metadata": {},
   "source": [
    "while not enough recommendation :\n",
    "    take most interacted stream\n",
    "    take similar stream (<0.5)\n",
    "    take second most interacted stream\n",
    "    take similar ones \n",
    "    .\n",
    "    .\n",
    "    ."
   ]
  },
  {
   "cell_type": "code",
   "execution_count": 1064,
   "metadata": {
    "ExecuteTime": {
     "end_time": "2020-12-07T02:54:01.904130Z",
     "start_time": "2020-12-07T02:54:01.882086Z"
    }
   },
   "outputs": [],
   "source": [
    "class CFItem:\n",
    "    \"\"\"\n",
    "    Class that recommend streams to user based on\n",
    "    stream similarity\n",
    "    \"\"\"\n",
    "    \n",
    "    def __init__(self, df):\n",
    "        self.df = df\n",
    "        self.streams_similarities = pairwise_distances(df.to_numpy().T, metric='cosine')\n",
    "\n",
    "    \n",
    "    def recommend_for_user(self, user, stream_pool=[], top_n=10):\n",
    "        \"\"\"\n",
    "        Recommend top n popular stream to a user\n",
    "        based on stream similarity\n",
    "        \"\"\"\n",
    "    \n",
    "        if len(stream_pool) == 0:\n",
    "            stream_pool = self.df.columns\n",
    "            \n",
    "        user_streams_indexes = {stream: self.df.columns.to_list().index(stream) for stream in self.df.columns \\\n",
    "                                if self.df.loc[user, stream] > 0}\n",
    "        \n",
    "        stream_similarity = {stream: self.streams_similarities[stream_index] for stream, stream_index \\\n",
    "                             in user_streams_indexes.items()}\n",
    "                \n",
    "        recommended_streams = []\n",
    "        for user_stream in stream_similarity.keys():\n",
    "            for similarity in stream_similarity[user_stream]:\n",
    "                if similarity < 0.9: # add treshold \n",
    "                    stream_index = stream_similarity[user_stream].tolist().index(similarity)\n",
    "                    stream = self.df.columns[stream_index]\n",
    "                    if stream not in recommended_streams and stream in stream_pool:\n",
    "                        recommended_streams.append(stream)\n",
    "                if len(recommended_streams) >= top_n:\n",
    "                    break\n",
    "            \n",
    "        return recommended_streams"
   ]
  },
  {
   "cell_type": "code",
   "execution_count": 1065,
   "metadata": {
    "ExecuteTime": {
     "end_time": "2020-12-07T02:54:02.400155Z",
     "start_time": "2020-12-07T02:54:02.372093Z"
    }
   },
   "outputs": [
    {
     "data": {
      "text/plain": [
       "['29733',\n",
       " '125545',\n",
       " '16032',\n",
       " '35676',\n",
       " '11298',\n",
       " '14888',\n",
       " '68664',\n",
       " '9273',\n",
       " '124493',\n",
       " '10320']"
      ]
     },
     "execution_count": 1065,
     "metadata": {},
     "output_type": "execute_result"
    }
   ],
   "source": [
    "cf_item_model = CFItem(user_profiles)\n",
    "cf_item_model.recommend_for_user(\"80c79718-b5ae-4e79-9b1a-b42461b934d0\", top_n=10)"
   ]
  },
  {
   "cell_type": "code",
   "execution_count": 1066,
   "metadata": {
    "ExecuteTime": {
     "end_time": "2020-12-07T02:54:11.839956Z",
     "start_time": "2020-12-07T02:54:04.196879Z"
    }
   },
   "outputs": [
    {
     "name": "stderr",
     "output_type": "stream",
     "text": [
      "100%|███████████████████████████████████████████████████████████████████████████████| 100/100 [00:00<00:00, 271.29it/s]\n"
     ]
    },
    {
     "data": {
      "text/plain": [
       "{'R@5': 0.4700000000000001,\n",
       " 'R@10': 0.728,\n",
       " 'MAP@5': 0.5433333333333332,\n",
       " 'MAP@10': 0.47401507936507953}"
      ]
     },
     "execution_count": 1066,
     "metadata": {},
     "output_type": "execute_result"
    }
   ],
   "source": [
    "model_evaluator.evaluate_model(cf_item_model, 100, 5, 45)"
   ]
  },
  {
   "cell_type": "markdown",
   "metadata": {},
   "source": [
    "# Clusters of User recommendation system"
   ]
  },
  {
   "cell_type": "code",
   "execution_count": 1067,
   "metadata": {
    "ExecuteTime": {
     "end_time": "2020-12-07T02:54:15.181528Z",
     "start_time": "2020-12-07T02:54:15.157384Z"
    }
   },
   "outputs": [
    {
     "data": {
      "text/html": [
       "<div>\n",
       "<style scoped>\n",
       "    .dataframe tbody tr th:only-of-type {\n",
       "        vertical-align: middle;\n",
       "    }\n",
       "\n",
       "    .dataframe tbody tr th {\n",
       "        vertical-align: top;\n",
       "    }\n",
       "\n",
       "    .dataframe thead th {\n",
       "        text-align: right;\n",
       "    }\n",
       "</style>\n",
       "<table border=\"1\" class=\"dataframe\">\n",
       "  <thead>\n",
       "    <tr style=\"text-align: right;\">\n",
       "      <th></th>\n",
       "      <th>cluster_id</th>\n",
       "    </tr>\n",
       "    <tr>\n",
       "      <th>user_id</th>\n",
       "      <th></th>\n",
       "    </tr>\n",
       "  </thead>\n",
       "  <tbody>\n",
       "    <tr>\n",
       "      <th>80c79718-b5ae-4e79-9b1a-b42461b934d0</th>\n",
       "      <td>4</td>\n",
       "    </tr>\n",
       "    <tr>\n",
       "      <th>fee5578c-cbcd-402d-a698-db9a58af6fb2</th>\n",
       "      <td>8</td>\n",
       "    </tr>\n",
       "    <tr>\n",
       "      <th>284881a1-833d-49d9-9b7f-42094fdbbca1</th>\n",
       "      <td>8</td>\n",
       "    </tr>\n",
       "    <tr>\n",
       "      <th>be9ce283-a20f-4110-9523-e1c70d657add</th>\n",
       "      <td>4</td>\n",
       "    </tr>\n",
       "    <tr>\n",
       "      <th>0fe64dcb-547e-4f4f-a158-a66b5edd422f</th>\n",
       "      <td>29</td>\n",
       "    </tr>\n",
       "  </tbody>\n",
       "</table>\n",
       "</div>"
      ],
      "text/plain": [
       "                                      cluster_id\n",
       "user_id                                         \n",
       "80c79718-b5ae-4e79-9b1a-b42461b934d0           4\n",
       "fee5578c-cbcd-402d-a698-db9a58af6fb2           8\n",
       "284881a1-833d-49d9-9b7f-42094fdbbca1           8\n",
       "be9ce283-a20f-4110-9523-e1c70d657add           4\n",
       "0fe64dcb-547e-4f4f-a158-a66b5edd422f          29"
      ]
     },
     "execution_count": 1067,
     "metadata": {},
     "output_type": "execute_result"
    }
   ],
   "source": [
    "user_clusters = pd.read_csv(\"data/users_cluster_hospitality_dataset_2020.csv\", index_col=\"user_id\")\n",
    "user_clusters.head()"
   ]
  },
  {
   "cell_type": "markdown",
   "metadata": {},
   "source": [
    "## clusters only (for user similarity)\n",
    "compute most popular streams for the cluster of the user"
   ]
  },
  {
   "cell_type": "code",
   "execution_count": 1068,
   "metadata": {
    "ExecuteTime": {
     "end_time": "2020-12-07T02:54:15.630835Z",
     "start_time": "2020-12-07T02:54:15.609669Z"
    }
   },
   "outputs": [],
   "source": [
    "class ClusterRecommender:\n",
    "    \"\"\"\n",
    "    Class that recommend streams to user based on\n",
    "    popularity of stream inside the user cluster\n",
    "    \"\"\"\n",
    "    \n",
    "    def __init__(self, df, users_clusters):\n",
    "        self.df = df\n",
    "        self.user_clusters = users_clusters\n",
    "        self.clusters = self.compute_clusters()\n",
    "        self.cluster_streams_popularities = {}\n",
    "        \n",
    "        \n",
    "    def compute_clusters(self):\n",
    "        \"\"\"\n",
    "        Compute a list of user per cluster\n",
    "        \"\"\"\n",
    "        \n",
    "        cluster_ids = set(self.user_clusters[\"cluster_id\"])\n",
    "        \n",
    "        clusters = {}\n",
    "        for cluster_id in cluster_ids:\n",
    "            clusters[cluster_id] = [user for user in self.user_clusters.index if \\\n",
    "                                    user_clusters.loc[user, \"cluster_id\"] == cluster_id]\n",
    "            \n",
    "        return clusters\n",
    "            \n",
    "        \n",
    "    def compute_cluster_stream_popularity(self, cluster_id):\n",
    "        \"\"\"\n",
    "        Compute a ranking of popuar stream inside a cluster\n",
    "        \"\"\"\n",
    "        \n",
    "        try :\n",
    "            return self.cluster_streams_popularities[cluster_id]\n",
    "        except :\n",
    "            streams_nb_interactions = {}\n",
    "            \n",
    "            for user in self.clusters[cluster_id]:\n",
    "                for stream in self.df.columns:\n",
    "                    nb_interactions = self.df.loc[user, stream]\n",
    "                    if nb_interactions > 0:\n",
    "                        try :\n",
    "                            streams_nb_interactions[stream] += self.df.loc[user, stream]\n",
    "                        except :\n",
    "                            streams_nb_interactions[stream] = self.df.loc[user, stream]\n",
    "           \n",
    "            cluster_populars_streams = [stream for stream, popularity in \\\n",
    "                                        sorted(streams_nb_interactions.items(), key=lambda item: item[1], reverse=True)]\n",
    "            \n",
    "            return cluster_populars_streams\n",
    "        \n",
    "    \n",
    "    def recommend_for_user(self, user, stream_pool=[], top_n=10):\n",
    "        \"\"\"\n",
    "        Recommend streams to user based on\n",
    "        cluster popularity\n",
    "        \"\"\"\n",
    "        \n",
    "        if len(stream_pool) == 0:\n",
    "            stream_pool = self.df.columns\n",
    "            \n",
    "        user_cluster = self.user_clusters.loc[user, \"cluster_id\"]\n",
    "            \n",
    "        recommended_streams = self.compute_cluster_stream_popularity(user_cluster)\n",
    "        \n",
    "        recommended_streams = [stream for stream in recommended_streams if stream in stream_pool]\n",
    "            \n",
    "        return recommended_streams[:top_n]"
   ]
  },
  {
   "cell_type": "code",
   "execution_count": 1069,
   "metadata": {
    "ExecuteTime": {
     "end_time": "2020-12-07T02:54:19.777591Z",
     "start_time": "2020-12-07T02:54:16.023713Z"
    }
   },
   "outputs": [
    {
     "data": {
      "text/plain": [
       "['2516',\n",
       " '68664',\n",
       " '76208',\n",
       " '2513',\n",
       " '24639',\n",
       " '10381',\n",
       " '46810',\n",
       " '30935',\n",
       " '11297',\n",
       " '4908']"
      ]
     },
     "execution_count": 1069,
     "metadata": {},
     "output_type": "execute_result"
    }
   ],
   "source": [
    "cluster_model = ClusterRecommender(user_profiles, user_clusters)\n",
    "cluster_model.recommend_for_user(\"80c79718-b5ae-4e79-9b1a-b42461b934d0\", top_n=10)"
   ]
  },
  {
   "cell_type": "code",
   "execution_count": 1082,
   "metadata": {
    "ExecuteTime": {
     "end_time": "2020-12-07T03:21:02.562961Z",
     "start_time": "2020-12-07T03:20:18.803070Z"
    }
   },
   "outputs": [
    {
     "name": "stderr",
     "output_type": "stream",
     "text": [
      "100%|████████████████████████████████████████████████████████████████████████████████| 100/100 [00:35<00:00,  2.82it/s]\n"
     ]
    },
    {
     "data": {
      "text/plain": [
       "{'R@5': 0.5919999999999996,\n",
       " 'R@10': 0.8099999999999997,\n",
       " 'MAP@5': 0.7155666666666665,\n",
       " 'MAP@10': 0.5655115079365082}"
      ]
     },
     "execution_count": 1082,
     "metadata": {},
     "output_type": "execute_result"
    }
   ],
   "source": [
    "model_evaluator.evaluate_model(cluster_model, 100, 5, 45)"
   ]
  },
  {
   "cell_type": "markdown",
   "metadata": {},
   "source": [
    "## Clusters and CF-User model\n",
    "union or intersection, use score in both ?"
   ]
  },
  {
   "cell_type": "code",
   "execution_count": 1071,
   "metadata": {
    "ExecuteTime": {
     "end_time": "2020-12-07T02:55:32.747091Z",
     "start_time": "2020-12-07T02:55:32.730053Z"
    }
   },
   "outputs": [],
   "source": [
    "class ClusterCFUserRecommender:\n",
    "    \"\"\"\n",
    "    Class that recommend streams to user based on a combination of\n",
    "    user similarity and popularity in the cluster\n",
    "    \"\"\"\n",
    "    \n",
    "    def __init__(self, df, users_clusters):\n",
    "        self.df = df\n",
    "        self.cluster_model = ClusterRecommender(self.df, users_clusters)\n",
    "        self.cf_user_model = CFUser(self.df)\n",
    "        \n",
    "    \n",
    "    def recommend_for_user(self, user, stream_pool=[], top_n=10):\n",
    "        \"\"\"\n",
    "        Recommend streams to user based on a combination of\n",
    "        user similarity and popularity in the cluster\n",
    "        \"\"\"\n",
    "        \n",
    "        if len(stream_pool) == 0:\n",
    "            stream_pool = self.df.columns\n",
    "            \n",
    "        cluster_recs = self.cluster_model.recommend_for_user(user, stream_pool=stream_pool, top_n=top_n)\n",
    "        cf_user_recs = self.cf_user_model.recommend_for_user(user, stream_pool=stream_pool, top_n=top_n)\n",
    "            \n",
    "        stream_scores = {}\n",
    "        for i, stream in enumerate(cluster_recs):\n",
    "            if stream not in cf_user_recs:\n",
    "                stream_score = (i + top_n) / 2\n",
    "                stream_scores[stream] = stream_score\n",
    "            else :\n",
    "                stream_score = (i + cf_user_recs.index(stream)) / 2\n",
    "                stream_scores[stream] = stream_score\n",
    "        for i, stream in enumerate(cf_user_recs):\n",
    "            if stream not in cluster_recs:\n",
    "                stream_score = (i + top_n) / 2\n",
    "                stream_scores[stream] = stream_score\n",
    "        \n",
    "        recommended_streams = [stream for stream, score in sorted(stream_scores.items(), key=lambda item: item[1])]\n",
    "            \n",
    "        return recommended_streams[:top_n]"
   ]
  },
  {
   "cell_type": "code",
   "execution_count": 1072,
   "metadata": {
    "ExecuteTime": {
     "end_time": "2020-12-07T02:55:37.467067Z",
     "start_time": "2020-12-07T02:55:33.065216Z"
    }
   },
   "outputs": [],
   "source": [
    "cluster_cf_user_model = ClusterCFUserRecommender(user_profiles, user_clusters)"
   ]
  },
  {
   "cell_type": "code",
   "execution_count": 1073,
   "metadata": {
    "ExecuteTime": {
     "end_time": "2020-12-07T02:55:39.319918Z",
     "start_time": "2020-12-07T02:55:38.613891Z"
    }
   },
   "outputs": [
    {
     "data": {
      "text/plain": [
       "['2516',\n",
       " '2513',\n",
       " '68664',\n",
       " '76208',\n",
       " '9273',\n",
       " '12807',\n",
       " '24639',\n",
       " '14888',\n",
       " '10381',\n",
       " '35676']"
      ]
     },
     "execution_count": 1073,
     "metadata": {},
     "output_type": "execute_result"
    }
   ],
   "source": [
    "cluster_cf_user_model.recommend_for_user(\"80c79718-b5ae-4e79-9b1a-b42461b934d0\", top_n=10)"
   ]
  },
  {
   "cell_type": "code",
   "execution_count": 1075,
   "metadata": {
    "ExecuteTime": {
     "end_time": "2020-12-07T03:05:47.025375Z",
     "start_time": "2020-12-07T02:56:21.150555Z"
    }
   },
   "outputs": [
    {
     "name": "stderr",
     "output_type": "stream",
     "text": [
      "100%|████████████████████████████████████████████████████████████████████████████████| 100/100 [09:18<00:00,  5.58s/it]\n"
     ]
    },
    {
     "data": {
      "text/plain": [
       "{'R@5': 0.6399999999999999,\n",
       " 'R@10': 0.8419999999999994,\n",
       " 'MAP@5': 0.7784999999999994,\n",
       " 'MAP@10': 0.6399531746031745}"
      ]
     },
     "execution_count": 1075,
     "metadata": {},
     "output_type": "execute_result"
    }
   ],
   "source": [
    "model_evaluator.evaluate_model(cluster_cf_user_model, 100, 5, 45)"
   ]
  },
  {
   "cell_type": "markdown",
   "metadata": {},
   "source": [
    "## Clusters and CF-Item model\n",
    "union or intersection, use score in both ?"
   ]
  },
  {
   "cell_type": "code",
   "execution_count": 1077,
   "metadata": {
    "ExecuteTime": {
     "end_time": "2020-12-07T03:08:30.412297Z",
     "start_time": "2020-12-07T03:08:30.394299Z"
    }
   },
   "outputs": [],
   "source": [
    "class ClusterCFUserRecommender:\n",
    "    \"\"\"\n",
    "    Class that recommend streams to user based on a combination of\n",
    "    stream similarity and popularity in the cluster\n",
    "    \"\"\"\n",
    "    \n",
    "    def __init__(self, df, users_clusters):\n",
    "        self.df = df\n",
    "        self.cluster_model = ClusterRecommender(self.df, users_clusters)\n",
    "        self.cf_item_model = CFItem(self.df)\n",
    "        \n",
    "    \n",
    "    def recommend_for_user(self, user, stream_pool=[], top_n=10):\n",
    "        \"\"\"\n",
    "        Recommend streams to user based on a combination of\n",
    "        user similarity and popularity in the cluster\n",
    "        \"\"\"\n",
    "        \n",
    "        if len(stream_pool) == 0:\n",
    "            stream_pool = self.df.columns\n",
    "            \n",
    "        cluster_recs = self.cluster_model.recommend_for_user(user, stream_pool=stream_pool, top_n=top_n)\n",
    "        cf_item_recs = self.cf_item_model.recommend_for_user(user, stream_pool=stream_pool, top_n=top_n)\n",
    "            \n",
    "        stream_scores = {}\n",
    "        for i, stream in enumerate(cluster_recs):\n",
    "            if stream not in cf_item_recs:\n",
    "                stream_score = (i + top_n) / 2\n",
    "                stream_scores[stream] = stream_score\n",
    "            else :\n",
    "                stream_score = (i + cf_item_recs.index(stream)) / 2\n",
    "                stream_scores[stream] = stream_score\n",
    "        for i, stream in enumerate(cf_item_recs):\n",
    "            if stream not in cluster_recs:\n",
    "                stream_score = (i + top_n) / 2\n",
    "                stream_scores[stream] = stream_score\n",
    "        \n",
    "        recommended_streams = [stream for stream, score in sorted(stream_scores.items(), key=lambda item: item[1])]\n",
    "            \n",
    "        return recommended_streams[:top_n]"
   ]
  },
  {
   "cell_type": "code",
   "execution_count": 1078,
   "metadata": {
    "ExecuteTime": {
     "end_time": "2020-12-07T03:08:33.945760Z",
     "start_time": "2020-12-07T03:08:30.584297Z"
    }
   },
   "outputs": [],
   "source": [
    "cluster_cf_item_model = ClusterCFUserRecommender(user_profiles, user_clusters)"
   ]
  },
  {
   "cell_type": "code",
   "execution_count": 1079,
   "metadata": {
    "ExecuteTime": {
     "end_time": "2020-12-07T03:08:34.938760Z",
     "start_time": "2020-12-07T03:08:33.948761Z"
    }
   },
   "outputs": [
    {
     "data": {
      "text/plain": [
       "['68664',\n",
       " '2516',\n",
       " '29733',\n",
       " '125545',\n",
       " '76208',\n",
       " '16032',\n",
       " '2513',\n",
       " '35676',\n",
       " '24639',\n",
       " '11298']"
      ]
     },
     "execution_count": 1079,
     "metadata": {},
     "output_type": "execute_result"
    }
   ],
   "source": [
    "cluster_cf_item_model.recommend_for_user(\"80c79718-b5ae-4e79-9b1a-b42461b934d0\", top_n=10)"
   ]
  },
  {
   "cell_type": "code",
   "execution_count": 1080,
   "metadata": {
    "ExecuteTime": {
     "end_time": "2020-12-07T03:09:29.286917Z",
     "start_time": "2020-12-07T03:08:34.941656Z"
    }
   },
   "outputs": [
    {
     "name": "stderr",
     "output_type": "stream",
     "text": [
      "100%|████████████████████████████████████████████████████████████████████████████████| 100/100 [00:44<00:00,  2.25it/s]\n"
     ]
    },
    {
     "data": {
      "text/plain": [
       "{'R@5': 0.6779999999999997,\n",
       " 'R@10': 0.9139999999999994,\n",
       " 'MAP@5': 0.7527666666666663,\n",
       " 'MAP@10': 0.6486567460317457}"
      ]
     },
     "execution_count": 1080,
     "metadata": {},
     "output_type": "execute_result"
    }
   ],
   "source": [
    "model_evaluator.evaluate_model(cluster_cf_item_model, 100, 5, 45)"
   ]
  },
  {
   "cell_type": "code",
   "execution_count": null,
   "metadata": {},
   "outputs": [],
   "source": []
  }
 ],
 "metadata": {
  "kernelspec": {
   "display_name": "Python 3",
   "language": "python",
   "name": "python3"
  },
  "language_info": {
   "codemirror_mode": {
    "name": "ipython",
    "version": 3
   },
   "file_extension": ".py",
   "mimetype": "text/x-python",
   "name": "python",
   "nbconvert_exporter": "python",
   "pygments_lexer": "ipython3",
   "version": "3.7.6"
  },
  "toc": {
   "base_numbering": 1,
   "nav_menu": {},
   "number_sections": true,
   "sideBar": true,
   "skip_h1_title": false,
   "title_cell": "Table of Contents",
   "title_sidebar": "Contents",
   "toc_cell": false,
   "toc_position": {},
   "toc_section_display": true,
   "toc_window_display": false
  }
 },
 "nbformat": 4,
 "nbformat_minor": 4
}
