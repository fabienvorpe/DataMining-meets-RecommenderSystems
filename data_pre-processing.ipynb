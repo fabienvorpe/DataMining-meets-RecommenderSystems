{
 "cells": [
  {
   "cell_type": "code",
   "execution_count": 29,
   "metadata": {
    "ExecuteTime": {
     "end_time": "2020-10-06T12:28:38.294707Z",
     "start_time": "2020-10-06T12:28:38.291709Z"
    }
   },
   "outputs": [],
   "source": [
    "from tqdm import tqdm\n",
    "import pandas as pd"
   ]
  },
  {
   "cell_type": "raw",
   "metadata": {},
   "source": [
    "MCS - BeNeFri\n",
    "Social Media Analytics, Fall 2020\n",
    "Project - Data Mining meets Recommender Systems\n",
    "@authors: Guillaume Chacun, Fabien Vorpe"
   ]
  },
  {
   "cell_type": "markdown",
   "metadata": {},
   "source": [
    "# Data pre-processing"
   ]
  },
  {
   "cell_type": "markdown",
   "metadata": {},
   "source": [
    "## Filter out unwanted rows"
   ]
  },
  {
   "cell_type": "code",
   "execution_count": 30,
   "metadata": {
    "ExecuteTime": {
     "end_time": "2020-10-06T14:10:38.308364Z",
     "start_time": "2020-10-06T12:28:54.836724Z"
    },
    "scrolled": false
   },
   "outputs": [
    {
     "name": "stderr",
     "output_type": "stream",
     "text": [
      "830563it [1:41:43, 136.08it/s]\n"
     ]
    }
   ],
   "source": [
    "# parameters & functions\n",
    "cols_to_read = ['user_id', 'path', 'normalized_path', 'method']\n",
    "cols_to_write = ['user_id', 'path', 'normalized_path', 'method']\n",
    "endpoints_list = [\n",
    "    '/streams/{streamid}/posts',\n",
    "    '/streams/{streamid}/subscribe',\n",
    "    '/streams/{streamid}/members',\n",
    "    '/streams/{streamid}/subscribe',\n",
    "    \n",
    "    '/posts/{postid}/comments',\n",
    "    '/posts',\n",
    "    '/posts/{postid}/like',\n",
    "    '/posts/{postid}/likes',\n",
    "    '/posts/{postids}/read',\n",
    "    '/posts/{post_id}/vote/{option_id}',\n",
    "    \n",
    "    '/comments/{id}/likes',\n",
    "    '/comments/{id}/keep',\n",
    "    '/comments/{id}/like',\n",
    "]\n",
    "methods_list = ['POST']\n",
    "\n",
    "def filter_rows(path, method):\n",
    "    return (not pd.isnull(path) # path must not be NaN\n",
    "            and not pd.isnull(method) # method must not be NaN\n",
    "            and any(endpoint in path for endpoint in endpoints_list) # the path must contain one of the wanted endpoints\n",
    "            and method in methods_list) # the method should be one of the wanted methods\n",
    "\n",
    "# read data\n",
    "data = pd.read_csv('./data/hospitality_dataset_2020.csv', chunksize=60, usecols=cols_to_read) # data is an iterable\n",
    "\n",
    "header = True\n",
    "for chunk in tqdm(data):\n",
    "    # filter out unwanted rows\n",
    "    chunk = chunk[chunk[['normalized_path', 'method']].apply(lambda x: filter_rows(*x), axis=1)]\n",
    "    # save remaining rows\n",
    "    chunk.to_csv('./data/trimmed_hospitality_dataset_2020.csv', header=header, columns=cols_to_write, index=False, mode='a')\n",
    "    header = False # only first chunk should have a header"
   ]
  },
  {
   "cell_type": "raw",
   "metadata": {},
   "source": [
    "830563it [1:41:43, 136.08it/s]"
   ]
  }
 ],
 "metadata": {
  "kernelspec": {
   "display_name": "Python 3",
   "language": "python",
   "name": "python3"
  },
  "language_info": {
   "codemirror_mode": {
    "name": "ipython",
    "version": 3
   },
   "file_extension": ".py",
   "mimetype": "text/x-python",
   "name": "python",
   "nbconvert_exporter": "python",
   "pygments_lexer": "ipython3",
   "version": "3.8.1"
  },
  "toc": {
   "base_numbering": 1,
   "nav_menu": {},
   "number_sections": true,
   "sideBar": true,
   "skip_h1_title": false,
   "title_cell": "Table of Contents",
   "title_sidebar": "Contents",
   "toc_cell": false,
   "toc_position": {},
   "toc_section_display": true,
   "toc_window_display": false
  }
 },
 "nbformat": 4,
 "nbformat_minor": 4
}
