{
 "cells": [
  {
   "cell_type": "code",
   "execution_count": 1,
   "metadata": {
    "ExecuteTime": {
     "end_time": "2020-10-13T10:40:53.308615Z",
     "start_time": "2020-10-13T10:40:49.864612Z"
    }
   },
   "outputs": [],
   "source": [
    "from tqdm import tqdm\n",
    "import pandas as pd\n",
    "import json"
   ]
  },
  {
   "cell_type": "raw",
   "metadata": {},
   "source": [
    "MCS - BeNeFri\n",
    "Social Media Analytics, Fall 2020\n",
    "Project - Data Mining meets Recommender Systems\n",
    "@authors: Guillaume Chacun, Fabien Vorpe"
   ]
  },
  {
   "cell_type": "markdown",
   "metadata": {},
   "source": [
    "# Data pre-processing"
   ]
  },
  {
   "cell_type": "markdown",
   "metadata": {},
   "source": [
    "## Filter out unwanted rows"
   ]
  },
  {
   "cell_type": "code",
   "execution_count": 2,
   "metadata": {
    "ExecuteTime": {
     "end_time": "2020-10-13T10:40:53.314613Z",
     "start_time": "2020-10-13T10:40:53.309615Z"
    }
   },
   "outputs": [],
   "source": [
    "original_data_filename = 'hospitality_dataset_2020.csv'\n",
    "trimmed_data_filename = 'trimmed_hospitality_dataset_2020.csv'\n",
    "ids_data_filename = 'streams_posts_comments_ids.json'\n",
    "user_profiles_filename = 'user_profiles_hospitality_dataset_2020.csv'"
   ]
  },
  {
   "cell_type": "code",
   "execution_count": 30,
   "metadata": {
    "ExecuteTime": {
     "end_time": "2020-10-06T14:10:38.308364Z",
     "start_time": "2020-10-06T12:28:54.836724Z"
    },
    "scrolled": false
   },
   "outputs": [
    {
     "name": "stderr",
     "output_type": "stream",
     "text": [
      "830563it [1:41:43, 136.08it/s]\n"
     ]
    }
   ],
   "source": [
    "# parameters & functions\n",
    "cols_to_read = ['user_id', 'path', 'normalized_path', 'method']\n",
    "cols_to_write = ['user_id', 'path', 'normalized_path', 'method']\n",
    "endpoints_list = [\n",
    "    '/streams/{streamid}/posts',\n",
    "    '/streams/{streamid}/subscribe',\n",
    "    '/streams/{streamid}/members',\n",
    "    '/streams/{streamid}/subscribe',\n",
    "    \n",
    "    '/posts/{postid}/comments',\n",
    "    '/posts',\n",
    "    '/posts/{postid}/like',\n",
    "    '/posts/{postid}/likes',\n",
    "    '/posts/{postids}/read',\n",
    "    '/posts/{post_id}/vote/{option_id}',\n",
    "    \n",
    "    '/comments/{id}/likes',\n",
    "    '/comments/{id}/keep',\n",
    "    '/comments/{id}/like',\n",
    "]\n",
    "methods_list = ['POST']\n",
    "\n",
    "def filter_rows(path, method):\n",
    "    return (not pd.isnull(path) # path must not be NaN\n",
    "            and not pd.isnull(method) # method must not be NaN\n",
    "            and any(endpoint in path for endpoint in endpoints_list) # the path must contain one of the wanted endpoints\n",
    "            and method in methods_list) # the method should be one of the wanted methods\n",
    "\n",
    "# read data\n",
    "data = pd.read_csv(f'./data/{original_data_filename}', chunksize=60, usecols=cols_to_read) # data is an iterable\n",
    "\n",
    "header = True\n",
    "for chunk in tqdm(data):\n",
    "    # filter out unwanted rows\n",
    "    chunk = chunk[chunk[['normalized_path', 'method']].apply(lambda x: filter_rows(*x), axis=1)]\n",
    "    # save remaining rows\n",
    "    chunk.to_csv(f'./data/{trimmed_data_filename}', header=header, columns=cols_to_write, index=False, mode='a')\n",
    "    header = False # only first chunk should have a header"
   ]
  },
  {
   "cell_type": "raw",
   "metadata": {},
   "source": [
    "830563it [1:41:43, 136.08it/s]"
   ]
  },
  {
   "cell_type": "markdown",
   "metadata": {},
   "source": [
    "## Create user profiles"
   ]
  },
  {
   "cell_type": "markdown",
   "metadata": {},
   "source": [
    "User profiles:\n",
    "- Sparse matrix NxM with N users and M features\n",
    "- Features (for each stream):\n",
    "    - Number of posts the user read\n",
    "    - Number of posts the user posted\n",
    "    - Number of posts and comments the user liked\n",
    "    - Number of comments the user posted"
   ]
  },
  {
   "cell_type": "code",
   "execution_count": 20,
   "metadata": {
    "ExecuteTime": {
     "end_time": "2020-10-13T11:55:39.259260Z",
     "start_time": "2020-10-13T11:55:39.188126Z"
    }
   },
   "outputs": [],
   "source": [
    "# load streams, posts and comments ids\n",
    "with open(f'data/{ids_data_filename}', 'r', encoding=\"utf8\") as ids_file:\n",
    "    posts_ids, comments_ids = json.load(ids_file)\n",
    "streams_ids_set = set(posts_ids.values())"
   ]
  },
  {
   "cell_type": "code",
   "execution_count": 21,
   "metadata": {
    "ExecuteTime": {
     "end_time": "2020-10-13T11:55:39.645941Z",
     "start_time": "2020-10-13T11:55:39.641941Z"
    }
   },
   "outputs": [],
   "source": [
    "features = {\n",
    "    ('/posts/{postids}/read', 'POST'): 'read',\n",
    "    ('/streams/{streamid}/posts', 'POST'): 'posts',\n",
    "    ('/posts/{postid}/like', 'POST'): 'likes',\n",
    "    ('/posts/{postid}/likes', 'POST'): 'likes',\n",
    "    ('/comments/{id}/likes', 'POST'): 'likes',\n",
    "    ('/comments/{id}/keep', 'POST'): 'likes',\n",
    "    ('/comments/{id}/like', 'POST'): 'likes',\n",
    "    ('/posts/{postid}/comments', 'POST'): 'comments',\n",
    "}"
   ]
  },
  {
   "cell_type": "code",
   "execution_count": 22,
   "metadata": {
    "ExecuteTime": {
     "end_time": "2020-10-13T11:55:40.237548Z",
     "start_time": "2020-10-13T11:55:40.185565Z"
    }
   },
   "outputs": [],
   "source": [
    "# identify columns for future user profiles dataframe\n",
    "up_cols = [f'{stream_id}_{feature}' for stream_id in streams_ids_set for feature in set(features.values())]\n",
    "user_profiles = {} "
   ]
  },
  {
   "cell_type": "code",
   "execution_count": 23,
   "metadata": {
    "ExecuteTime": {
     "end_time": "2020-10-13T11:59:39.728460Z",
     "start_time": "2020-10-13T11:55:40.842565Z"
    },
    "scrolled": true
   },
   "outputs": [
    {
     "name": "stderr",
     "output_type": "stream",
     "text": [
      "28309it [03:58, 118.51it/s]"
     ]
    },
    {
     "name": "stdout",
     "output_type": "stream",
     "text": [
      "Number of rows used from trimmed_hospitality_dataset_2020.csv: 1308380\n",
      "Number of entries using unknown id(s): 35315\n"
     ]
    },
    {
     "name": "stderr",
     "output_type": "stream",
     "text": [
      "\n"
     ]
    }
   ],
   "source": [
    "count_entries = 0\n",
    "count_unknown_id = 0\n",
    "\n",
    "# read data\n",
    "data = pd.read_csv(f'./data/{trimmed_data_filename}', chunksize=60)\n",
    "\n",
    "for chunk in tqdm(data):\n",
    "    for _, row in chunk.iterrows(): # for each row\n",
    "        \n",
    "        # extract row info\n",
    "        user_id = row['user_id']\n",
    "        normalized_path = row['normalized_path']\n",
    "        path = row['path']\n",
    "        method = row['method']\n",
    "        \n",
    "        # if normalized_path is one of those we want to keep\n",
    "        try:\n",
    "            feature = features[(normalized_path.replace('/api/2', ''), method)] # get feature name\n",
    "            count_entries += 1\n",
    "        except KeyError:\n",
    "            break\n",
    "        \n",
    "        # extract ids from the path\n",
    "        ids = path.replace(normalized_path[:normalized_path.find('{')], '')\\\n",
    "                    .replace(normalized_path[normalized_path.find('}')+1:], '').split(',')\n",
    "        \n",
    "        normalized_path_action = normalized_path.split('/')[3]\n",
    "        for element_id in ids: # for each id\n",
    "            # use posts_ids and comments_ids dictionnaries to find the stream_id\n",
    "            try:\n",
    "                if normalized_path_action == 'streams':\n",
    "                    stream_id = element_id\n",
    "                elif normalized_path_action == 'posts':\n",
    "                    stream_id = posts_ids[element_id]\n",
    "                elif normalized_path_action == 'comments':\n",
    "                    stream_id = posts_ids[comments_ids[element_id]]\n",
    "            except KeyError: \n",
    "                count_unknown_id += 1\n",
    "                break # id unknown\n",
    "\n",
    "            column = f'{stream_id}_{feature}'\n",
    "            \n",
    "            try: # if the user already has a row\n",
    "                user_profiles[user_id][column] += 1 # increment feature counter\n",
    "            except KeyError: # create a new row\n",
    "                user_profiles[user_id] = {col: 0 for col in up_cols}\n",
    "                user_profiles[user_id][column] = 1\n",
    "\n",
    "print(f'Number of rows used from {trimmed_data_filename}: {count_entries}')\n",
    "print(f'Number of entries using unknown id(s): {count_unknown_id}')"
   ]
  },
  {
   "cell_type": "code",
   "execution_count": 26,
   "metadata": {
    "ExecuteTime": {
     "end_time": "2020-10-13T12:01:18.004826Z",
     "start_time": "2020-10-13T12:01:15.386691Z"
    }
   },
   "outputs": [
    {
     "name": "stdout",
     "output_type": "stream",
     "text": [
      "Number of unique users: 7767\n"
     ]
    },
    {
     "data": {
      "text/html": [
       "<div>\n",
       "<style scoped>\n",
       "    .dataframe tbody tr th:only-of-type {\n",
       "        vertical-align: middle;\n",
       "    }\n",
       "\n",
       "    .dataframe tbody tr th {\n",
       "        vertical-align: top;\n",
       "    }\n",
       "\n",
       "    .dataframe thead th {\n",
       "        text-align: right;\n",
       "    }\n",
       "</style>\n",
       "<table border=\"1\" class=\"dataframe\">\n",
       "  <thead>\n",
       "    <tr style=\"text-align: right;\">\n",
       "      <th></th>\n",
       "      <th>9731_read</th>\n",
       "      <th>9731_likes</th>\n",
       "      <th>9731_comments</th>\n",
       "      <th>9731_posts</th>\n",
       "      <th>7174_read</th>\n",
       "      <th>7174_likes</th>\n",
       "      <th>7174_comments</th>\n",
       "      <th>7174_posts</th>\n",
       "      <th>12807_read</th>\n",
       "      <th>12807_likes</th>\n",
       "      <th>...</th>\n",
       "      <th>132077_comments</th>\n",
       "      <th>132077_posts</th>\n",
       "      <th>132078_read</th>\n",
       "      <th>132078_likes</th>\n",
       "      <th>132078_comments</th>\n",
       "      <th>132078_posts</th>\n",
       "      <th>50683_read</th>\n",
       "      <th>50683_likes</th>\n",
       "      <th>50683_comments</th>\n",
       "      <th>50683_posts</th>\n",
       "    </tr>\n",
       "  </thead>\n",
       "  <tbody>\n",
       "    <tr>\n",
       "      <th>80c79718-b5ae-4e79-9b1a-b42461b934d0</th>\n",
       "      <td>0</td>\n",
       "      <td>0</td>\n",
       "      <td>0</td>\n",
       "      <td>0</td>\n",
       "      <td>0</td>\n",
       "      <td>0</td>\n",
       "      <td>0</td>\n",
       "      <td>0</td>\n",
       "      <td>0</td>\n",
       "      <td>0</td>\n",
       "      <td>...</td>\n",
       "      <td>0</td>\n",
       "      <td>0</td>\n",
       "      <td>0</td>\n",
       "      <td>0</td>\n",
       "      <td>0</td>\n",
       "      <td>0</td>\n",
       "      <td>0</td>\n",
       "      <td>0</td>\n",
       "      <td>0</td>\n",
       "      <td>0</td>\n",
       "    </tr>\n",
       "    <tr>\n",
       "      <th>fee5578c-cbcd-402d-a698-db9a58af6fb2</th>\n",
       "      <td>0</td>\n",
       "      <td>0</td>\n",
       "      <td>0</td>\n",
       "      <td>0</td>\n",
       "      <td>0</td>\n",
       "      <td>0</td>\n",
       "      <td>0</td>\n",
       "      <td>0</td>\n",
       "      <td>0</td>\n",
       "      <td>0</td>\n",
       "      <td>...</td>\n",
       "      <td>0</td>\n",
       "      <td>0</td>\n",
       "      <td>0</td>\n",
       "      <td>0</td>\n",
       "      <td>0</td>\n",
       "      <td>0</td>\n",
       "      <td>0</td>\n",
       "      <td>0</td>\n",
       "      <td>0</td>\n",
       "      <td>0</td>\n",
       "    </tr>\n",
       "    <tr>\n",
       "      <th>284881a1-833d-49d9-9b7f-42094fdbbca1</th>\n",
       "      <td>0</td>\n",
       "      <td>0</td>\n",
       "      <td>0</td>\n",
       "      <td>0</td>\n",
       "      <td>0</td>\n",
       "      <td>0</td>\n",
       "      <td>0</td>\n",
       "      <td>0</td>\n",
       "      <td>0</td>\n",
       "      <td>0</td>\n",
       "      <td>...</td>\n",
       "      <td>0</td>\n",
       "      <td>0</td>\n",
       "      <td>0</td>\n",
       "      <td>0</td>\n",
       "      <td>0</td>\n",
       "      <td>0</td>\n",
       "      <td>0</td>\n",
       "      <td>0</td>\n",
       "      <td>0</td>\n",
       "      <td>0</td>\n",
       "    </tr>\n",
       "    <tr>\n",
       "      <th>be9ce283-a20f-4110-9523-e1c70d657add</th>\n",
       "      <td>0</td>\n",
       "      <td>0</td>\n",
       "      <td>0</td>\n",
       "      <td>0</td>\n",
       "      <td>0</td>\n",
       "      <td>0</td>\n",
       "      <td>0</td>\n",
       "      <td>0</td>\n",
       "      <td>0</td>\n",
       "      <td>0</td>\n",
       "      <td>...</td>\n",
       "      <td>0</td>\n",
       "      <td>0</td>\n",
       "      <td>0</td>\n",
       "      <td>0</td>\n",
       "      <td>0</td>\n",
       "      <td>0</td>\n",
       "      <td>0</td>\n",
       "      <td>0</td>\n",
       "      <td>0</td>\n",
       "      <td>0</td>\n",
       "    </tr>\n",
       "    <tr>\n",
       "      <th>0fe64dcb-547e-4f4f-a158-a66b5edd422f</th>\n",
       "      <td>0</td>\n",
       "      <td>0</td>\n",
       "      <td>0</td>\n",
       "      <td>0</td>\n",
       "      <td>0</td>\n",
       "      <td>0</td>\n",
       "      <td>0</td>\n",
       "      <td>0</td>\n",
       "      <td>0</td>\n",
       "      <td>0</td>\n",
       "      <td>...</td>\n",
       "      <td>0</td>\n",
       "      <td>0</td>\n",
       "      <td>0</td>\n",
       "      <td>0</td>\n",
       "      <td>0</td>\n",
       "      <td>0</td>\n",
       "      <td>0</td>\n",
       "      <td>0</td>\n",
       "      <td>0</td>\n",
       "      <td>0</td>\n",
       "    </tr>\n",
       "  </tbody>\n",
       "</table>\n",
       "<p>5 rows × 516 columns</p>\n",
       "</div>"
      ],
      "text/plain": [
       "                                      9731_read  9731_likes  9731_comments  \\\n",
       "80c79718-b5ae-4e79-9b1a-b42461b934d0          0           0              0   \n",
       "fee5578c-cbcd-402d-a698-db9a58af6fb2          0           0              0   \n",
       "284881a1-833d-49d9-9b7f-42094fdbbca1          0           0              0   \n",
       "be9ce283-a20f-4110-9523-e1c70d657add          0           0              0   \n",
       "0fe64dcb-547e-4f4f-a158-a66b5edd422f          0           0              0   \n",
       "\n",
       "                                      9731_posts  7174_read  7174_likes  \\\n",
       "80c79718-b5ae-4e79-9b1a-b42461b934d0           0          0           0   \n",
       "fee5578c-cbcd-402d-a698-db9a58af6fb2           0          0           0   \n",
       "284881a1-833d-49d9-9b7f-42094fdbbca1           0          0           0   \n",
       "be9ce283-a20f-4110-9523-e1c70d657add           0          0           0   \n",
       "0fe64dcb-547e-4f4f-a158-a66b5edd422f           0          0           0   \n",
       "\n",
       "                                      7174_comments  7174_posts  12807_read  \\\n",
       "80c79718-b5ae-4e79-9b1a-b42461b934d0              0           0           0   \n",
       "fee5578c-cbcd-402d-a698-db9a58af6fb2              0           0           0   \n",
       "284881a1-833d-49d9-9b7f-42094fdbbca1              0           0           0   \n",
       "be9ce283-a20f-4110-9523-e1c70d657add              0           0           0   \n",
       "0fe64dcb-547e-4f4f-a158-a66b5edd422f              0           0           0   \n",
       "\n",
       "                                      12807_likes  ...  132077_comments  \\\n",
       "80c79718-b5ae-4e79-9b1a-b42461b934d0            0  ...                0   \n",
       "fee5578c-cbcd-402d-a698-db9a58af6fb2            0  ...                0   \n",
       "284881a1-833d-49d9-9b7f-42094fdbbca1            0  ...                0   \n",
       "be9ce283-a20f-4110-9523-e1c70d657add            0  ...                0   \n",
       "0fe64dcb-547e-4f4f-a158-a66b5edd422f            0  ...                0   \n",
       "\n",
       "                                      132077_posts  132078_read  132078_likes  \\\n",
       "80c79718-b5ae-4e79-9b1a-b42461b934d0             0            0             0   \n",
       "fee5578c-cbcd-402d-a698-db9a58af6fb2             0            0             0   \n",
       "284881a1-833d-49d9-9b7f-42094fdbbca1             0            0             0   \n",
       "be9ce283-a20f-4110-9523-e1c70d657add             0            0             0   \n",
       "0fe64dcb-547e-4f4f-a158-a66b5edd422f             0            0             0   \n",
       "\n",
       "                                      132078_comments  132078_posts  \\\n",
       "80c79718-b5ae-4e79-9b1a-b42461b934d0                0             0   \n",
       "fee5578c-cbcd-402d-a698-db9a58af6fb2                0             0   \n",
       "284881a1-833d-49d9-9b7f-42094fdbbca1                0             0   \n",
       "be9ce283-a20f-4110-9523-e1c70d657add                0             0   \n",
       "0fe64dcb-547e-4f4f-a158-a66b5edd422f                0             0   \n",
       "\n",
       "                                      50683_read  50683_likes  50683_comments  \\\n",
       "80c79718-b5ae-4e79-9b1a-b42461b934d0           0            0               0   \n",
       "fee5578c-cbcd-402d-a698-db9a58af6fb2           0            0               0   \n",
       "284881a1-833d-49d9-9b7f-42094fdbbca1           0            0               0   \n",
       "be9ce283-a20f-4110-9523-e1c70d657add           0            0               0   \n",
       "0fe64dcb-547e-4f4f-a158-a66b5edd422f           0            0               0   \n",
       "\n",
       "                                      50683_posts  \n",
       "80c79718-b5ae-4e79-9b1a-b42461b934d0            0  \n",
       "fee5578c-cbcd-402d-a698-db9a58af6fb2            0  \n",
       "284881a1-833d-49d9-9b7f-42094fdbbca1            0  \n",
       "be9ce283-a20f-4110-9523-e1c70d657add            0  \n",
       "0fe64dcb-547e-4f4f-a158-a66b5edd422f            0  \n",
       "\n",
       "[5 rows x 516 columns]"
      ]
     },
     "execution_count": 26,
     "metadata": {},
     "output_type": "execute_result"
    }
   ],
   "source": [
    "user_profiles_df = pd.DataFrame.from_dict(user_profiles, orient='index') # convert from dict to DataFrame\n",
    "user_profiles_df = user_profiles_df.dropna(axis=1) # drop all columns with any missing value\n",
    "user_profiles_df.to_csv(f'./data/{user_profiles_filename}', header=True, index=False) # save user profiles to a file\n",
    "print(f'Number of unique users: {len(user_profiles_df)}')\n",
    "user_profiles_df.head()"
   ]
  },
  {
   "cell_type": "code",
   "execution_count": null,
   "metadata": {},
   "outputs": [],
   "source": []
  }
 ],
 "metadata": {
  "kernelspec": {
   "display_name": "Python 3",
   "language": "python",
   "name": "python3"
  },
  "language_info": {
   "codemirror_mode": {
    "name": "ipython",
    "version": 3
   },
   "file_extension": ".py",
   "mimetype": "text/x-python",
   "name": "python",
   "nbconvert_exporter": "python",
   "pygments_lexer": "ipython3",
   "version": "3.8.1"
  },
  "toc": {
   "base_numbering": 1,
   "nav_menu": {},
   "number_sections": true,
   "sideBar": true,
   "skip_h1_title": false,
   "title_cell": "Table of Contents",
   "title_sidebar": "Contents",
   "toc_cell": false,
   "toc_position": {},
   "toc_section_display": true,
   "toc_window_display": false
  }
 },
 "nbformat": 4,
 "nbformat_minor": 4
}
