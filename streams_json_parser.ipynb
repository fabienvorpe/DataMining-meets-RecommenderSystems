{
 "cells": [
  {
   "cell_type": "code",
   "execution_count": 3,
   "metadata": {
    "ExecuteTime": {
     "end_time": "2020-10-12T17:18:26.452781Z",
     "start_time": "2020-10-12T17:18:26.317334Z"
    }
   },
   "outputs": [],
   "source": [
    "import json\n",
    "import glob\n",
    "from tqdm import tqdm"
   ]
  },
  {
   "cell_type": "code",
   "execution_count": 4,
   "metadata": {
    "ExecuteTime": {
     "end_time": "2020-10-12T17:18:26.496335Z",
     "start_time": "2020-10-12T17:18:26.492336Z"
    }
   },
   "outputs": [],
   "source": [
    "ids_data_filename = 'streams_posts_comments_ids.json'"
   ]
  },
  {
   "cell_type": "code",
   "execution_count": 5,
   "metadata": {
    "ExecuteTime": {
     "end_time": "2020-10-12T17:18:53.815245Z",
     "start_time": "2020-10-12T17:18:27.180967Z"
    }
   },
   "outputs": [
    {
     "name": "stderr",
     "output_type": "stream",
     "text": [
      "100%|██████████████████████████████████████████████████████████| 129/129 [00:26<00:00,  4.85it/s]\n"
     ]
    }
   ],
   "source": [
    "posts = {} # postid -> streamid\n",
    "comments = {} # commentid -> postid\n",
    "\n",
    "for stream_file_name in tqdm(glob.glob('data/streams_files/*_posts.json')):\n",
    "    \n",
    "    # for each stream file\n",
    "    streamid = None\n",
    "    with open(stream_file_name, 'r', encoding=\"utf8\") as stream_file:\n",
    "        stream = json.load(stream_file)\n",
    "        streamid = stream[0]['streamid'] if len(stream) > 0 else None # identify stream id\n",
    "        \n",
    "        # for each post in the stream\n",
    "        for post in stream:\n",
    "            posts[post['id']] = streamid # add new entry which links post id with the stream id\n",
    "            \n",
    "            # for each comment on the post\n",
    "            for comment in post['comments']:\n",
    "                comments[comment['id']] = post['id']  # add new entry which links comment id with the post id"
   ]
  },
  {
   "cell_type": "code",
   "execution_count": 7,
   "metadata": {
    "ExecuteTime": {
     "end_time": "2020-10-12T17:18:56.347997Z",
     "start_time": "2020-10-12T17:18:55.821172Z"
    }
   },
   "outputs": [],
   "source": [
    "with open(f'data/{ids_data_filename}', 'w') as f:\n",
    "    json.dump([posts, comments], f) # export [posts, comments]"
   ]
  },
  {
   "cell_type": "code",
   "execution_count": null,
   "metadata": {},
   "outputs": [],
   "source": []
  }
 ],
 "metadata": {
  "kernelspec": {
   "display_name": "Python 3",
   "language": "python",
   "name": "python3"
  },
  "language_info": {
   "codemirror_mode": {
    "name": "ipython",
    "version": 3
   },
   "file_extension": ".py",
   "mimetype": "text/x-python",
   "name": "python",
   "nbconvert_exporter": "python",
   "pygments_lexer": "ipython3",
   "version": "3.8.1"
  },
  "toc": {
   "base_numbering": 1,
   "nav_menu": {},
   "number_sections": true,
   "sideBar": true,
   "skip_h1_title": false,
   "title_cell": "Table of Contents",
   "title_sidebar": "Contents",
   "toc_cell": false,
   "toc_position": {},
   "toc_section_display": true,
   "toc_window_display": false
  }
 },
 "nbformat": 4,
 "nbformat_minor": 4
}
